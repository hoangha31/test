{
 "cells": [
  {
   "cell_type": "code",
   "execution_count": 1,
   "id": "562eb6de-d415-484a-ab20-cf4332718a44",
   "metadata": {},
   "outputs": [],
   "source": [
    "import numpy as np\n",
    "import matplotlib.pyplot as plt\n",
    "from sklearn import neighbors, datasets"
   ]
  },
  {
   "cell_type": "code",
   "execution_count": 17,
   "id": "58c9f444-dc94-4775-ad62-b9deb173b17f",
   "metadata": {},
   "outputs": [
    {
     "name": "stdout",
     "output_type": "stream",
     "text": [
      "Number of classes: 3\n",
      "Number of data points: 150\n",
      "samples from class 0 [[5.1 3.5 1.4 0.2]\n",
      " [4.9 3.  1.4 0.2]\n",
      " [4.7 3.2 1.3 0.2]\n",
      " [4.6 3.1 1.5 0.2]\n",
      " [5.  3.6 1.4 0.2]]\n",
      "samples from class 0 [[7.  3.2 4.7 1.4]\n",
      " [6.4 3.2 4.5 1.5]\n",
      " [6.9 3.1 4.9 1.5]\n",
      " [5.5 2.3 4.  1.3]\n",
      " [6.5 2.8 4.6 1.5]]\n",
      "samples from class 0 [[5.1 3.5 1.4 0.2]\n",
      " [4.9 3.  1.4 0.2]\n",
      " [4.7 3.2 1.3 0.2]\n",
      " [4.6 3.1 1.5 0.2]\n",
      " [5.  3.6 1.4 0.2]]\n"
     ]
    }
   ],
   "source": [
    "iris = datasets.load_iris()\n",
    "iris_x = iris.data\n",
    "iris_y = iris.target\n",
    "print ('Number of classes: %d' %len(np.unique(iris_y)))\n",
    "print ('Number of data points: %d' %len(iris_y))\n",
    "\n",
    "X0 = iris_x[iris_y == 0,:]\n",
    "print (\"samples from class 0\", X0[:5,:])\n",
    "\n",
    "X1 = iris_x[iris_y == 1,:]\n",
    "print (\"samples from class 0\", X1[:5,:])\n",
    "\n",
    "X2 = iris_x[iris_y == 0,:]\n",
    "print (\"samples from class 0\", X2[:5,:])"
   ]
  },
  {
   "cell_type": "code",
   "execution_count": 21,
   "id": "a492dab4-8d09-4176-a8cb-2ea7072fa4ff",
   "metadata": {},
   "outputs": [
    {
     "name": "stdout",
     "output_type": "stream",
     "text": [
      "Traing size 100\n",
      "Test size 50\n"
     ]
    }
   ],
   "source": [
    "from sklearn.model_selection import train_test_split\n",
    "\n",
    "X_train, X_test, y_train, y_test = train_test_split(iris_x, iris_y, test_size=50)\n",
    "\n",
    "print(\"Traing size\", len(y_train))\n",
    "print(\"Test size\", len(y_test))"
   ]
  },
  {
   "cell_type": "code",
   "execution_count": 31,
   "id": "daf1c313-f386-41f6-9e79-7ea560bf855a",
   "metadata": {},
   "outputs": [
    {
     "name": "stdout",
     "output_type": "stream",
     "text": [
      "Print results for 20 test data points: \n",
      "Predicted labels:  [0 0 0 1 1 1 0 1 2 0 1 2 2 2 0 1 0 2 1 1]\n",
      "Ground truth:      [0 0 0 1 1 1 0 1 2 0 2 2 2 2 0 1 0 2 1 1]\n"
     ]
    }
   ],
   "source": [
    "clf = neighbors.KNeighborsClassifier(n_neighbors = 1, p = 2)\n",
    "clf.fit(X_train, y_train) #y_train cho biết nhãn tương ứng với mẫu\n",
    "y_pred = clf.predict(X_test)\n",
    "\n",
    "print(\"Print results for 20 test data points: \")\n",
    "print(\"Predicted labels: \", y_pred[20:40])\n",
    "print(\"Ground truth:     \", y_test[20:40])\n"
   ]
  },
  {
   "cell_type": "markdown",
   "id": "9cf61f57-d628-49aa-b38f-5490eff84a6a",
   "metadata": {},
   "source": [
    "### Đánh giá"
   ]
  },
  {
   "cell_type": "code",
   "execution_count": 40,
   "id": "cf6249c6-5317-4b5f-a08f-5dc92a0be366",
   "metadata": {},
   "outputs": [
    {
     "name": "stdout",
     "output_type": "stream",
     "text": [
      "Accuracy of 1KN: 96.00%\n"
     ]
    }
   ],
   "source": [
    "# sử dụng hàm accuracy_score\n",
    "from sklearn.metrics import accuracy_score\n",
    "print(f\"Accuracy of 1KN: {100 * accuracy_score(y_test, y_pred):.2f}%\")"
   ]
  },
  {
   "cell_type": "markdown",
   "id": "afbb408f-cbde-4e07-bcaa-a2a9d21a6c84",
   "metadata": {},
   "source": [
    "### Đánh trọng số cho các điểm lân cận "
   ]
  },
  {
   "cell_type": "code",
   "execution_count": 55,
   "id": "5ab0eb81-acf7-49d9-92a2-c1d5a3813ecd",
   "metadata": {},
   "outputs": [
    {
     "name": "stdout",
     "output_type": "stream",
     "text": [
      "Accuracy of 10NN (1/distance weights): 96.00 %\n"
     ]
    }
   ],
   "source": [
    "clf = neighbors.KNeighborsClassifier(n_neighbors = 10, p = 2, weights = 'distance')\n",
    "clf.fit(X_train, y_train)\n",
    "y_pred = clf.predict(X_test)\n",
    "\n",
    "print (\"Accuracy of 10NN (1/distance weights): %.2f %%\" %(100*accuracy_score(y_test, y_pred)))"
   ]
  },
  {
   "cell_type": "code",
   "execution_count": null,
   "id": "e2add1ec-2821-4603-a45f-3091d964af88",
   "metadata": {},
   "outputs": [],
   "source": []
  }
 ],
 "metadata": {
  "kernelspec": {
   "display_name": "Python 3 (ipykernel)",
   "language": "python",
   "name": "python3"
  },
  "language_info": {
   "codemirror_mode": {
    "name": "ipython",
    "version": 3
   },
   "file_extension": ".py",
   "mimetype": "text/x-python",
   "name": "python",
   "nbconvert_exporter": "python",
   "pygments_lexer": "ipython3",
   "version": "3.12.7"
  }
 },
 "nbformat": 4,
 "nbformat_minor": 5
}
