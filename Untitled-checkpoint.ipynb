{
 "cells": [
  {
   "cell_type": "code",
   "execution_count": 1,
   "id": "63eb1c6f",
   "metadata": {},
   "outputs": [
    {
     "name": "stdout",
     "output_type": "stream",
     "text": [
      "helooô mọi ngừi \n"
     ]
    }
   ],
   "source": [
    "print(\"helooô mọi ngừi \")"
   ]
  },
  {
   "cell_type": "code",
   "execution_count": null,
   "id": "fa7c56ba",
   "metadata": {},
   "outputs": [],
   "source": []
  },
  {
   "cell_type": "code",
   "execution_count": null,
   "id": "4cb24ed8",
   "metadata": {},
   "outputs": [],
   "source": [
    "def tinh():\n",
    "    print(\"hello\")\n",
    "    print(\"hi\")\n",
    "    print(\"chao\")\n",
    "    print(\"xin chao\")\n",
    "    print(\"xin chao cac ban\")\n",
    "    print(\"hello mọi người\")\n",
    "    print(\"hello mọi người ơi\")\n",
    "    print(\"hello mọi người ơi  \")\n",
    "    print(\"hello mọi người ơi  \")   "
   ]
  }
 ],
 "metadata": {
  "kernelspec": {
   "display_name": "Python 3",
   "language": "python",
   "name": "python3"
  },
  "language_info": {
   "codemirror_mode": {
    "name": "ipython",
    "version": 3
   },
   "file_extension": ".py",
   "mimetype": "text/x-python",
   "name": "python",
   "nbconvert_exporter": "python",
   "pygments_lexer": "ipython3",
   "version": "3.9.0"
  }
 },
 "nbformat": 4,
 "nbformat_minor": 5
}
